{
 "cells": [
  {
   "cell_type": "code",
   "execution_count": null,
   "id": "13d5ceb8",
   "metadata": {},
   "outputs": [],
   "source": [
    "# EDA Session"
   ]
  },
  {
   "cell_type": "code",
   "execution_count": null,
   "id": "d08abd12",
   "metadata": {},
   "outputs": [],
   "source": [
    "# Installing the required libraries"
   ]
  },
  {
   "cell_type": "code",
   "execution_count": null,
   "id": "a1381a35",
   "metadata": {},
   "outputs": [],
   "source": [
    "#!pip install numpy\n",
    "#!pip install pandas\n",
    "#!pip install seaborn as sns\n",
    "#!pip install matplotlib.pyplot as plt\n",
    "#%matplotlib inline\n",
    "#!pip install sklearn"
   ]
  },
  {
   "cell_type": "code",
   "execution_count": null,
   "id": "ec62d710",
   "metadata": {},
   "outputs": [],
   "source": [
    "import pandas as pd\n",
    "import numpy as np\n",
    "import seaborn as sns\n",
    "import matplotlib.pyplot as plt\n",
    "% matplotlib inline"
   ]
  },
  {
   "cell_type": "code",
   "execution_count": null,
   "id": "3f995f8d",
   "metadata": {},
   "outputs": [],
   "source": [
    "# Reading the dataset for EDA"
   ]
  },
  {
   "cell_type": "code",
   "execution_count": null,
   "id": "514c34d6",
   "metadata": {},
   "outputs": [],
   "source": [
    "df= pd.read_csv(r\"C:\\HCL EDA Use case\\hcl proj\\housepricedata.csv\")"
   ]
  },
  {
   "cell_type": "code",
   "execution_count": null,
   "id": "b1593a8e",
   "metadata": {},
   "outputs": [],
   "source": [
    "df.head()"
   ]
  },
  {
   "cell_type": "code",
   "execution_count": null,
   "id": "68478cc2",
   "metadata": {},
   "outputs": [],
   "source": [
    "df.tail()"
   ]
  },
  {
   "cell_type": "code",
   "execution_count": null,
   "id": "636e7c47",
   "metadata": {},
   "outputs": [],
   "source": [
    "df['Street'].value_counts()  # For finding value count in a feature"
   ]
  },
  {
   "cell_type": "code",
   "execution_count": null,
   "id": "2330a3bc",
   "metadata": {},
   "outputs": [],
   "source": [
    "df.info()     # getting info of the dataset"
   ]
  },
  {
   "cell_type": "code",
   "execution_count": null,
   "id": "b91a48e8",
   "metadata": {},
   "outputs": [],
   "source": [
    "df.describe()     # getting the statistical properties of a dataset"
   ]
  },
  {
   "cell_type": "code",
   "execution_count": null,
   "id": "c1ea081a",
   "metadata": {},
   "outputs": [],
   "source": [
    "df.columns     # getting the no. of columns in a dataset"
   ]
  },
  {
   "cell_type": "code",
   "execution_count": null,
   "id": "cfef24bb",
   "metadata": {},
   "outputs": [],
   "source": [
    "df.shape   # getting the no. of rows and columns in a dataset"
   ]
  },
  {
   "cell_type": "code",
   "execution_count": null,
   "id": "80af3a56",
   "metadata": {},
   "outputs": [],
   "source": [
    "# Finding the duplicate values in the dataset"
   ]
  },
  {
   "cell_type": "code",
   "execution_count": null,
   "id": "d2a599aa",
   "metadata": {},
   "outputs": [],
   "source": [
    "df.duplicated().sum()   # No dups in the dataset"
   ]
  },
  {
   "cell_type": "code",
   "execution_count": null,
   "id": "a2570521",
   "metadata": {},
   "outputs": [],
   "source": [
    "# Remove unwanted columns from dataset"
   ]
  },
  {
   "cell_type": "code",
   "execution_count": null,
   "id": "225bd3b0",
   "metadata": {},
   "outputs": [],
   "source": [
    "df_drop=df.drop(columns= ['Id'], axis=1, inplace=True)\n",
    "df.head()"
   ]
  },
  {
   "cell_type": "code",
   "execution_count": null,
   "id": "bc091b38",
   "metadata": {},
   "outputs": [],
   "source": [
    "# Sepearting my categorical feature & num feature from the dataset"
   ]
  },
  {
   "cell_type": "code",
   "execution_count": null,
   "id": "65a29d9f",
   "metadata": {},
   "outputs": [],
   "source": [
    "num_feature=[i for i in df.columns if df.dtypes[i]!='object']"
   ]
  },
  {
   "cell_type": "code",
   "execution_count": null,
   "id": "0bef6154",
   "metadata": {},
   "outputs": [],
   "source": [
    "print(len(num_feature))"
   ]
  },
  {
   "cell_type": "code",
   "execution_count": null,
   "id": "dc033c9c",
   "metadata": {},
   "outputs": [],
   "source": [
    "cat_feature=[i for i in df.columns if df.dtypes[i]=='object']"
   ]
  },
  {
   "cell_type": "code",
   "execution_count": null,
   "id": "2075f131",
   "metadata": {},
   "outputs": [],
   "source": [
    "#cat_feature.remove('SalePrice')"
   ]
  },
  {
   "cell_type": "code",
   "execution_count": null,
   "id": "7a5e0b7e",
   "metadata": {},
   "outputs": [],
   "source": [
    "print(len(cat_feature))"
   ]
  },
  {
   "cell_type": "code",
   "execution_count": null,
   "id": "83c154ab",
   "metadata": {},
   "outputs": [],
   "source": [
    "df[num_feature].head()   # Top 5 nume feature"
   ]
  },
  {
   "cell_type": "code",
   "execution_count": null,
   "id": "2f723cc2",
   "metadata": {},
   "outputs": [],
   "source": [
    "df[cat_feature].head()  # Top5 cat feature"
   ]
  },
  {
   "cell_type": "code",
   "execution_count": null,
   "id": "13964711",
   "metadata": {},
   "outputs": [],
   "source": [
    "# Check missing values"
   ]
  },
  {
   "cell_type": "code",
   "execution_count": null,
   "id": "eccef467",
   "metadata": {},
   "outputs": [],
   "source": [
    "df.info()"
   ]
  },
  {
   "cell_type": "code",
   "execution_count": null,
   "id": "5960cc9f",
   "metadata": {},
   "outputs": [],
   "source": [
    "#checking for missing values in the num features"
   ]
  },
  {
   "cell_type": "code",
   "execution_count": null,
   "id": "b1e7a91f",
   "metadata": {},
   "outputs": [],
   "source": [
    "df[num_feature].isnull().sum()"
   ]
  },
  {
   "cell_type": "code",
   "execution_count": null,
   "id": "e25858a6",
   "metadata": {},
   "outputs": [],
   "source": [
    "df[cat_feature].isnull().sum()   # missing vals in cat features"
   ]
  },
  {
   "cell_type": "code",
   "execution_count": null,
   "id": "f36add9c",
   "metadata": {},
   "outputs": [],
   "source": [
    "# Plotting the histogram "
   ]
  },
  {
   "cell_type": "code",
   "execution_count": null,
   "id": "03a0f5e8",
   "metadata": {},
   "outputs": [],
   "source": [
    "sns.histplot(df['SalePrice'], bins = 20)"
   ]
  },
  {
   "cell_type": "code",
   "execution_count": null,
   "id": "88fcb67e",
   "metadata": {},
   "outputs": [],
   "source": [
    "# Visualizing missing values in the dataset for num features"
   ]
  },
  {
   "cell_type": "code",
   "execution_count": null,
   "id": "6121474d",
   "metadata": {},
   "outputs": [],
   "source": [
    "missing = df[num_feature].isnull().sum()\n",
    "missing = missing[missing > 0]\n",
    "missing.sort_values(inplace=True)\n",
    "missing.plot.bar()"
   ]
  },
  {
   "cell_type": "code",
   "execution_count": null,
   "id": "e2457f67",
   "metadata": {},
   "outputs": [],
   "source": [
    "# Visualizing missing values in the dataset for cat features"
   ]
  },
  {
   "cell_type": "code",
   "execution_count": null,
   "id": "d07f3ea4",
   "metadata": {},
   "outputs": [],
   "source": [
    "missing = df[cat_feature].isnull().sum()\n",
    "missing = missing[missing > 0]\n",
    "missing.sort_values(inplace=True)\n",
    "missing.plot.bar()"
   ]
  },
  {
   "cell_type": "code",
   "execution_count": null,
   "id": "2a4d740c",
   "metadata": {},
   "outputs": [],
   "source": [
    "# % Missing vals in the datset num features"
   ]
  },
  {
   "cell_type": "code",
   "execution_count": null,
   "id": "f720e696",
   "metadata": {},
   "outputs": [],
   "source": [
    "missing = pd.DataFrame((df[num_feature].isnull().sum())*100/df.shape[0]).reset_index()\n",
    "plt.figure(figsize=(16,5))\n",
    "ax = sns.pointplot('index',0,data=missing)\n",
    "plt.xticks(rotation =90,fontsize =7)\n",
    "plt.title(\"Percentage of Missing values\")\n",
    "plt.ylabel(\"PERCENTAGE\")\n",
    "plt.show()"
   ]
  },
  {
   "cell_type": "code",
   "execution_count": null,
   "id": "7fba3d3d",
   "metadata": {},
   "outputs": [],
   "source": [
    "# % Missing vals in the datset cat features"
   ]
  },
  {
   "cell_type": "code",
   "execution_count": null,
   "id": "323a54d8",
   "metadata": {},
   "outputs": [],
   "source": [
    "missing = pd.DataFrame((df[cat_feature].isnull().sum())*100/df.shape[0]).reset_index()\n",
    "plt.figure(figsize=(16,5))\n",
    "ax = sns.pointplot('index',0,data=missing)\n",
    "plt.xticks(rotation =90,fontsize =7)\n",
    "plt.title(\"Percentage of Missing values\")\n",
    "plt.ylabel(\"PERCENTAGE\")\n",
    "plt.show()"
   ]
  },
  {
   "cell_type": "code",
   "execution_count": null,
   "id": "bccd8840",
   "metadata": {},
   "outputs": [],
   "source": [
    "# Handling the missing vals in the datset"
   ]
  },
  {
   "cell_type": "code",
   "execution_count": null,
   "id": "79f05119",
   "metadata": {},
   "outputs": [],
   "source": [
    "# #Removing missing values if it's not affecting the target variable\n",
    "#df.dropna(how = 'any', inplace = True)"
   ]
  },
  {
   "cell_type": "code",
   "execution_count": null,
   "id": "bdee99a5",
   "metadata": {},
   "outputs": [],
   "source": [
    "# Imputation techniques for handling missing data"
   ]
  },
  {
   "cell_type": "code",
   "execution_count": null,
   "id": "719f0a6a",
   "metadata": {},
   "outputs": [],
   "source": [
    "# Using median imputation for handling numerical data"
   ]
  },
  {
   "cell_type": "code",
   "execution_count": null,
   "id": "a1b7f300",
   "metadata": {},
   "outputs": [],
   "source": [
    "from sklearn.impute import SimpleImputer\n",
    "\n",
    "median_imputer = SimpleImputer(missing_values=np.nan, strategy='median')\n",
    "df[num_feature] = pd.DataFrame(median_imputer.fit_transform(df[num_feature]))\n",
    "df[num_feature].isna().sum()"
   ]
  },
  {
   "cell_type": "code",
   "execution_count": null,
   "id": "c4ac19db",
   "metadata": {},
   "outputs": [],
   "source": [
    "# Mode Imputation for handling categorical values in the dataset"
   ]
  },
  {
   "cell_type": "code",
   "execution_count": null,
   "id": "2bacad50",
   "metadata": {},
   "outputs": [],
   "source": [
    "mode_imputer = SimpleImputer(missing_values=np.nan, strategy='most_frequent')\n",
    "\n",
    "df[cat_feature] = pd.DataFrame(mode_imputer.fit_transform(df[cat_feature]))\n",
    "\n",
    "df[cat_feature] = pd.DataFrame(mode_imputer.fit_transform(df[cat_feature]))\n",
    "df.isnull().sum() "
   ]
  },
  {
   "cell_type": "code",
   "execution_count": null,
   "id": "7cfb8a26",
   "metadata": {},
   "outputs": [],
   "source": [
    "corr=df.corr()   # getting correlation in the dataset"
   ]
  },
  {
   "cell_type": "code",
   "execution_count": null,
   "id": "294d3976",
   "metadata": {},
   "outputs": [],
   "source": [
    "corr"
   ]
  },
  {
   "cell_type": "code",
   "execution_count": null,
   "id": "8053dabe",
   "metadata": {},
   "outputs": [],
   "source": [
    "# Plotting a heatmap for correlation analysis"
   ]
  },
  {
   "cell_type": "code",
   "execution_count": null,
   "id": "4cadbb85",
   "metadata": {},
   "outputs": [],
   "source": [
    "corr = df.corr()\n",
    "sns.heatmap(corr, xticklabels=corr.columns,yticklabels=corr.columns)"
   ]
  },
  {
   "cell_type": "code",
   "execution_count": null,
   "id": "44ffe88c",
   "metadata": {},
   "outputs": [],
   "source": [
    "# Handling categorical features in the dataset using dummy variables"
   ]
  },
  {
   "cell_type": "code",
   "execution_count": null,
   "id": "fdc6c254",
   "metadata": {},
   "outputs": [],
   "source": [
    "df_dummies = pd.get_dummies(cat_feature)\n",
    "df_dummies.head()"
   ]
  },
  {
   "cell_type": "code",
   "execution_count": null,
   "id": "857d56c8",
   "metadata": {},
   "outputs": [],
   "source": [
    "# installing the visualization librares in the dataset"
   ]
  },
  {
   "cell_type": "code",
   "execution_count": null,
   "id": "cc54ea87",
   "metadata": {},
   "outputs": [],
   "source": [
    "# pandas_profiling library"
   ]
  },
  {
   "cell_type": "code",
   "execution_count": null,
   "id": "e6c7216d",
   "metadata": {},
   "outputs": [],
   "source": [
    "import pandas_profiling"
   ]
  },
  {
   "cell_type": "code",
   "execution_count": null,
   "id": "3a79a313",
   "metadata": {},
   "outputs": [],
   "source": [
    "from pandas_profiling import ProfileReport"
   ]
  },
  {
   "cell_type": "code",
   "execution_count": null,
   "id": "d8861586",
   "metadata": {},
   "outputs": [],
   "source": [
    "profile=ProfileReport(df,explorative=True)"
   ]
  },
  {
   "cell_type": "code",
   "execution_count": null,
   "id": "a96d5c6a",
   "metadata": {},
   "outputs": [],
   "source": [
    "profile.to_file('output.html')   # check the html file in the folder"
   ]
  },
  {
   "cell_type": "code",
   "execution_count": null,
   "id": "c3adb33d",
   "metadata": {},
   "outputs": [],
   "source": [
    "# autoviz library"
   ]
  },
  {
   "cell_type": "code",
   "execution_count": null,
   "id": "e2602c55",
   "metadata": {},
   "outputs": [],
   "source": [
    "from autoviz.AutoViz_Class import AutoViz_Class"
   ]
  },
  {
   "cell_type": "code",
   "execution_count": null,
   "id": "c475e2a0",
   "metadata": {},
   "outputs": [],
   "source": [
    "from autoviz import data_cleaning_suggestions\n",
    "data_cleaning_suggestions(df)"
   ]
  },
  {
   "cell_type": "code",
   "execution_count": null,
   "id": "c930893d",
   "metadata": {},
   "outputs": [],
   "source": [
    "from autoviz.AutoViz_Class import AutoViz_Class\n",
    "\n",
    "AV = AutoViz_Class()"
   ]
  },
  {
   "cell_type": "code",
   "execution_count": null,
   "id": "e11b9a77",
   "metadata": {},
   "outputs": [],
   "source": [
    "filename = \"C:\\HCL EDA Use case\\hcl proj\\housepricedata.csv\"\n",
    "sep = \",\"\n",
    "dft = AV.AutoViz(\n",
    "    filename,\n",
    "    sep=\",\",\n",
    "    depVar=\"\",\n",
    "    dfte=None,\n",
    "    header=0,\n",
    "    verbose=0,\n",
    "    lowess=False,\n",
    "    chart_format=\"svg\",\n",
    "    max_rows_analyzed=150000,\n",
    "    max_cols_analyzed=30,\n",
    "    save_plot_dir=None\n",
    ")"
   ]
  },
  {
   "cell_type": "code",
   "execution_count": null,
   "id": "4c1f73b5",
   "metadata": {},
   "outputs": [],
   "source": [
    "# Sweetviz library for generating reports\n",
    "\n",
    "#! pip install sweetviz"
   ]
  },
  {
   "cell_type": "code",
   "execution_count": null,
   "id": "67772bba",
   "metadata": {},
   "outputs": [],
   "source": [
    "import sweetviz as sv\n",
    "report=sv.analyze(df)\n",
    "report.show_html('sweet_report.html')"
   ]
  },
  {
   "cell_type": "code",
   "execution_count": null,
   "id": "4d2bf09d",
   "metadata": {},
   "outputs": [],
   "source": [
    "# Dtale library"
   ]
  },
  {
   "cell_type": "code",
   "execution_count": null,
   "id": "3fdc6b14",
   "metadata": {},
   "outputs": [],
   "source": [
    "!pip install Dtale"
   ]
  },
  {
   "cell_type": "code",
   "execution_count": null,
   "id": "a568249e",
   "metadata": {},
   "outputs": [],
   "source": [
    "import dtale\n",
    "dtale.show(df)"
   ]
  },
  {
   "cell_type": "code",
   "execution_count": null,
   "id": "3559cf34",
   "metadata": {},
   "outputs": [],
   "source": []
  },
  {
   "cell_type": "code",
   "execution_count": null,
   "id": "95e3c405",
   "metadata": {},
   "outputs": [],
   "source": []
  },
  {
   "cell_type": "code",
   "execution_count": null,
   "id": "924865a8",
   "metadata": {},
   "outputs": [],
   "source": []
  },
  {
   "cell_type": "code",
   "execution_count": null,
   "id": "d3508d5e",
   "metadata": {},
   "outputs": [],
   "source": []
  },
  {
   "cell_type": "code",
   "execution_count": null,
   "id": "824a2c29",
   "metadata": {},
   "outputs": [],
   "source": []
  },
  {
   "cell_type": "code",
   "execution_count": null,
   "id": "af0a1405",
   "metadata": {},
   "outputs": [],
   "source": []
  },
  {
   "cell_type": "code",
   "execution_count": null,
   "id": "b973e550",
   "metadata": {},
   "outputs": [],
   "source": []
  }
 ],
 "metadata": {
  "kernelspec": {
   "display_name": "Python 3 (ipykernel)",
   "language": "python",
   "name": "python3"
  },
  "language_info": {
   "codemirror_mode": {
    "name": "ipython",
    "version": 3
   },
   "file_extension": ".py",
   "mimetype": "text/x-python",
   "name": "python",
   "nbconvert_exporter": "python",
   "pygments_lexer": "ipython3",
   "version": "3.9.13"
  }
 },
 "nbformat": 4,
 "nbformat_minor": 5
}
